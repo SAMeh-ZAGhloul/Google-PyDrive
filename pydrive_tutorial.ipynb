{
  "cells": [
    {
      "cell_type": "markdown",
      "metadata": {
        "id": "view-in-github",
        "colab_type": "text"
      },
      "source": [
        "<a href=\"https://colab.research.google.com/github/SAMeh-ZAGhloul/Google-PyDrive/blob/main/pydrive_tutorial.ipynb\" target=\"_parent\"><img src=\"https://colab.research.google.com/assets/colab-badge.svg\" alt=\"Open In Colab\"/></a>"
      ]
    },
    {
      "cell_type": "code",
      "execution_count": null,
      "metadata": {
        "id": "1D9c2e5qxEBe",
        "outputId": "b7b92db2-21f8-4509-c197-a80d01c7daef"
      },
      "outputs": [
        {
          "name": "stdout",
          "output_type": "stream",
          "text": [
            "Your browser has been opened to visit:\n",
            "\n",
            "    https://accounts.google.com/o/oauth2/auth?client_id=1050458308328-fqrcsnpb8t39iq7eqrug2hlls913tinn.apps.googleusercontent.com&redirect_uri=http%3A%2F%2Flocalhost%3A8080%2F&scope=https%3A%2F%2Fwww.googleapis.com%2Fauth%2Fdrive&access_type=offline&response_type=code\n",
            "\n",
            "Authentication successful.\n"
          ]
        }
      ],
      "source": [
        "# Authenticate your Google account (this will open a window in a web brower)\n",
        "from pydrive.auth import GoogleAuth\n",
        "\n",
        "gauth = GoogleAuth()\n",
        "gauth.LocalWebserverAuth()"
      ]
    },
    {
      "cell_type": "code",
      "execution_count": null,
      "metadata": {
        "id": "ldp8WohZxEBf"
      },
      "outputs": [],
      "source": [
        "# Create GoogleDrive instance\n",
        "from pydrive.drive import GoogleDrive\n",
        "drive = GoogleDrive(gauth)"
      ]
    },
    {
      "cell_type": "code",
      "execution_count": null,
      "metadata": {
        "id": "5JED94SGxEBg"
      },
      "outputs": [],
      "source": [
        "# Create and upload a simple file\n",
        "file = drive.CreateFile({'title': 'My Awesome File.txt'})\n",
        "file.SetContentString('Hello World!') # this writes a string directly to a file\n",
        "file.Upload()"
      ]
    },
    {
      "cell_type": "code",
      "execution_count": null,
      "metadata": {
        "tags": [
          "outputPrepend",
          "outputPrepend"
        ],
        "id": "QZc3ALuTxEBg"
      },
      "outputs": [],
      "source": [
        "# Search for every file in your Drive not in the trash\n",
        "#file_list = drive.ListFile({'q': 'trashed=false'}).GetList()\n",
        "\n",
        "#for file in file_list:\n",
        "#    print(file['title'], file['id'])"
      ]
    },
    {
      "cell_type": "code",
      "execution_count": null,
      "metadata": {
        "tags": [
          "outputPrepend"
        ],
        "id": "X9ENWoV5xEBg",
        "outputId": "8ad3f274-3d49-4248-af85-7ad4e15a8c99"
      },
      "outputs": [
        {
          "name": "stdout",
          "output_type": "stream",
          "text": [
            "My Awesome File.txt\n"
          ]
        }
      ],
      "source": [
        "# Search for a file with a title that contains \"Hello world\" and is not in the trash\n",
        "# For a full list of how to structure queries, see: https://developers.google.com/drive/api/v2/search-files#python\n",
        "\n",
        "file_list = drive.ListFile({'q': \"title contains 'My Awesome File' and trashed=false\"}).GetList()\n",
        "print(file_list[0]['title']) # should be the title of the file we just created\n",
        "file_id = file_list[0]['id'] # get the file ID"
      ]
    },
    {
      "cell_type": "code",
      "execution_count": null,
      "metadata": {
        "id": "odB08gIwxEBh"
      },
      "outputs": [],
      "source": [
        "# Download the basic file we just made\n",
        "file = drive.CreateFile({'id': file_id})\n",
        "file.GetContentFile('my-awesome-file.txt') # downloads 'My Awesome File.txt' as 'my-awesome-file.txt'"
      ]
    },
    {
      "cell_type": "code",
      "execution_count": null,
      "metadata": {
        "id": "5H5iQ984xEBh"
      },
      "outputs": [],
      "source": [
        "file.Trash() # put the simple file in Google Drive trash (not yet deleted)\n",
        "file.UnTrash() # recover from trash\n",
        "file.Delete() # permanently delete (downloaded copy is saved)"
      ]
    },
    {
      "cell_type": "code",
      "execution_count": null,
      "metadata": {
        "id": "K6NWSfRPxEBh"
      },
      "outputs": [],
      "source": [
        "# Upload arbitrary file\n",
        "cool_image = drive.CreateFile()\n",
        "cool_image.SetContentFile('my-awesome-file.txt') # load local file data into the File instance\n",
        "cool_image.Upload() # creates a file in your drive with the name: my-awesome-file.txt"
      ]
    },
    {
      "cell_type": "code",
      "execution_count": null,
      "metadata": {
        "id": "sMvPA3wYxEBi"
      },
      "outputs": [],
      "source": [
        "# Create folder\n",
        "folder = drive.CreateFile({'title': 'My Awesome Folder 123', \"mimeType\": \"application/vnd.google-apps.folder\"})\n",
        "folder.Upload()"
      ]
    },
    {
      "cell_type": "code",
      "execution_count": null,
      "metadata": {
        "id": "fJXVkOgaxEBi"
      },
      "outputs": [],
      "source": [
        "# Upload file to folder\n",
        "folder = drive.ListFile({'q': \"title = 'My Awesome Folder 123' and trashed=false\"}).GetList()[0] # get the folder we just created\n",
        "file = drive.CreateFile({'title': \"I'm in a folder!.txt\", 'parents': [{'id': folder['id']}]})\n",
        "file.Upload()"
      ]
    },
    {
      "cell_type": "code",
      "execution_count": null,
      "metadata": {
        "id": "m4Ld5mb6xEBj"
      },
      "outputs": [],
      "source": [
        "# Save Credentials (for use in Kaggle or elsewhere)\n",
        "gauth.SaveCredentialsFile(\"mycreds.txt\")"
      ]
    }
  ],
  "metadata": {
    "kernelspec": {
      "display_name": "Python 3 (ipykernel)",
      "language": "python",
      "name": "python3"
    },
    "language_info": {
      "codemirror_mode": {
        "name": "ipython",
        "version": 3
      },
      "file_extension": ".py",
      "mimetype": "text/x-python",
      "name": "python",
      "nbconvert_exporter": "python",
      "pygments_lexer": "ipython3",
      "version": "3.11.4"
    },
    "colab": {
      "provenance": [],
      "include_colab_link": true
    }
  },
  "nbformat": 4,
  "nbformat_minor": 0
}